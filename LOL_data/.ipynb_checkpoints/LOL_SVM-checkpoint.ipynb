{
 "cells": [
  {
   "cell_type": "code",
   "execution_count": 1,
   "metadata": {},
   "outputs": [],
   "source": [
    "import numpy as np\n",
    "import pandas as pd\n",
    "import matplotlib.pyplot as plt\n",
    "from sklearn.model_selection import train_test_split\n",
    "from sklearn.preprocessing import StandardScaler\n",
    "from sklearn.svm import SVC\n",
    "from sklearn.metrics import classification_report\n",
    "from sklearn.model_selection import GridSearchCV"
   ]
  },
  {
   "cell_type": "markdown",
   "metadata": {},
   "source": [
    "# Catch data"
   ]
  },
  {
   "cell_type": "code",
   "execution_count": 2,
   "metadata": {},
   "outputs": [],
   "source": [
    "# catch challenger data\n",
    "data_challenger = pd.read_csv('./Challenger_Ranked_Games.csv')\n",
    "# data_challenger = np.array(data_challenger)"
   ]
  },
  {
   "cell_type": "code",
   "execution_count": 3,
   "metadata": {},
   "outputs": [
    {
     "name": "stdout",
     "output_type": "stream",
     "text": [
      "<class 'pandas.core.frame.DataFrame'>\n",
      "(26904, 50)\n",
      "26904\n",
      "50\n"
     ]
    }
   ],
   "source": [
    "# property challenger\n",
    "print(type(data_challenger))\n",
    "print(data_challenger.shape)\n",
    "print(data_challenger.shape[0])\n",
    "print(data_challenger.shape[1])"
   ]
  },
  {
   "cell_type": "code",
   "execution_count": 17,
   "metadata": {},
   "outputs": [
    {
     "data": {
      "text/plain": [
       "(65896, 50)"
      ]
     },
     "execution_count": 17,
     "metadata": {},
     "output_type": "execute_result"
    }
   ],
   "source": [
    "# catch grandmaster data\n",
    "data_grandmaster = pd.read_csv(\"./GrandMaster_Ranked_Games.csv\")\n",
    "data_grandmaster.shape"
   ]
  },
  {
   "cell_type": "code",
   "execution_count": null,
   "metadata": {},
   "outputs": [],
   "source": [
    "# property grandmaster"
   ]
  },
  {
   "cell_type": "markdown",
   "metadata": {},
   "source": [
    "# Data preprocessing"
   ]
  },
  {
   "cell_type": "code",
   "execution_count": 22,
   "metadata": {},
   "outputs": [
    {
     "data": {
      "text/plain": [
       "((49422, 47), (49422,))"
      ]
     },
     "execution_count": 22,
     "metadata": {},
     "output_type": "execute_result"
    }
   ],
   "source": [
    "# grandmster \n",
    "blueWins_gm = data_grandmaster['blueWins']\n",
    "y_gm = blueWins_gm\n",
    "redWins_gm = data_grandmaster['redWins']\n",
    "x_gm = data_grandmaster.drop(['gameId','blueWins','redWins'],axis = 1)\n",
    "x_train_gm, x_test_gm, y_train_gm, y_test_gm = train_test_split(x_gm, y_gm, test_size=0.25, random_state = 19)\n",
    "x_train_gm.shape, y_train_gm.shape"
   ]
  },
  {
   "cell_type": "code",
   "execution_count": 4,
   "metadata": {},
   "outputs": [
    {
     "data": {
      "text/plain": [
       "0"
      ]
     },
     "execution_count": 4,
     "metadata": {},
     "output_type": "execute_result"
    }
   ],
   "source": [
    "# verifier is there draw (blueWins == redWins)\n",
    "\n",
    "blueWins = data_challenger['blueWins']\n",
    "redWins = data_challenger['redWins']\n",
    "draw = 0\n",
    "for i in range(data_challenger.shape[0]):\n",
    "    if blueWins[i] == redWins[i]:\n",
    "        draw += 1\n",
    "draw"
   ]
  },
  {
   "cell_type": "code",
   "execution_count": 5,
   "metadata": {},
   "outputs": [],
   "source": [
    "# split data in x and y\n",
    "x = data_challenger.drop(['gameId', 'redWins','blueWins'], axis=1) # drop out gameId which data is useless\n",
    "y = blueWins"
   ]
  },
  {
   "cell_type": "code",
   "execution_count": 6,
   "metadata": {},
   "outputs": [
    {
     "data": {
      "text/plain": [
       "((21523, 47), (21523,))"
      ]
     },
     "execution_count": 6,
     "metadata": {},
     "output_type": "execute_result"
    }
   ],
   "source": [
    "x_train, x_test, y_train, y_test = train_test_split(x,y,test_size = 0.2,random_state = 10)\n",
    "x_train.shape, y_train.shape"
   ]
  },
  {
   "cell_type": "markdown",
   "metadata": {},
   "source": [
    "# Feature engineering"
   ]
  },
  {
   "cell_type": "code",
   "execution_count": 7,
   "metadata": {},
   "outputs": [],
   "source": [
    "# Standard Scaler for challenger\n",
    "transfer = StandardScaler()\n",
    "x_fit = transfer.fit_transform(x)"
   ]
  },
  {
   "cell_type": "code",
   "execution_count": 23,
   "metadata": {},
   "outputs": [],
   "source": [
    "# Standard Scaler for grandmaster\n",
    "x_fit_gm = transfer.fit_transform(x_gm)"
   ]
  },
  {
   "cell_type": "markdown",
   "metadata": {},
   "source": [
    "# model traning"
   ]
  },
  {
   "cell_type": "code",
   "execution_count": 8,
   "metadata": {},
   "outputs": [
    {
     "name": "stdout",
     "output_type": "stream",
     "text": [
      "Wall time: 11.9 s\n"
     ]
    },
    {
     "data": {
      "text/plain": [
       "SVC(C=1)"
      ]
     },
     "execution_count": 8,
     "metadata": {},
     "output_type": "execute_result"
    }
   ],
   "source": [
    "# training\n",
    "model = SVC(C = 1, kernel = 'rbf')\n",
    "%time model.fit(x_train, y_train)"
   ]
  },
  {
   "cell_type": "code",
   "execution_count": 9,
   "metadata": {},
   "outputs": [],
   "source": [
    "# predcit\n",
    "y_pre = model.predict(x_test)"
   ]
  },
  {
   "cell_type": "code",
   "execution_count": 10,
   "metadata": {},
   "outputs": [
    {
     "data": {
      "text/plain": [
       "(5381,)"
      ]
     },
     "execution_count": 10,
     "metadata": {},
     "output_type": "execute_result"
    }
   ],
   "source": [
    "y_pre.shape"
   ]
  },
  {
   "cell_type": "markdown",
   "metadata": {},
   "source": [
    "# model evaluation"
   ]
  },
  {
   "cell_type": "code",
   "execution_count": 11,
   "metadata": {},
   "outputs": [
    {
     "name": "stdout",
     "output_type": "stream",
     "text": [
      "              precision    recall  f1-score   support\n",
      "\n",
      "           0       0.96      0.97      0.97      2688\n",
      "           1       0.97      0.96      0.97      2693\n",
      "\n",
      "    accuracy                           0.97      5381\n",
      "   macro avg       0.97      0.97      0.97      5381\n",
      "weighted avg       0.97      0.97      0.97      5381\n",
      "\n"
     ]
    }
   ],
   "source": [
    "print(classification_report(y_test, y_pre))"
   ]
  },
  {
   "cell_type": "code",
   "execution_count": 9,
   "metadata": {},
   "outputs": [
    {
     "name": "stdout",
     "output_type": "stream",
     "text": [
      "Wall time: 57.7 s\n"
     ]
    },
    {
     "data": {
      "text/plain": [
       "GridSearchCV(cv=3, estimator=SVC(),\n",
       "             param_grid=[{'C': [1, 5, 10], 'kernel': ['rbf']}])"
      ]
     },
     "execution_count": 9,
     "metadata": {},
     "output_type": "execute_result"
    }
   ],
   "source": [
    "# cross-validation\n",
    "# param list\n",
    "param_grid = [\n",
    "    {'kernel':['rbf'],'C':[1,5,10]},\n",
    "#     {'kernel':['sigmoid'],'C':[1,3,5,10],'gamma':['auto']},\n",
    "#     {'kernel':['poly'],'C':[1,3,5,10],'degree':[2]}\n",
    "]\n",
    "grid = GridSearchCV(SVC(), param_grid=param_grid, cv=3)\n",
    "%time grid.fit(x_train,y_train)"
   ]
  },
  {
   "cell_type": "markdown",
   "metadata": {},
   "source": [
    "# prediction"
   ]
  },
  {
   "cell_type": "code",
   "execution_count": 15,
   "metadata": {},
   "outputs": [],
   "source": [
    "best_model = grid.best_estimator_\n",
    "y_test_pre = best_model.predict(x_test)"
   ]
  },
  {
   "cell_type": "code",
   "execution_count": 16,
   "metadata": {},
   "outputs": [
    {
     "name": "stdout",
     "output_type": "stream",
     "text": [
      "              precision    recall  f1-score   support\n",
      "\n",
      "           0       0.97      0.98      0.98      2688\n",
      "           1       0.98      0.97      0.98      2693\n",
      "\n",
      "    accuracy                           0.98      5381\n",
      "   macro avg       0.98      0.98      0.98      5381\n",
      "weighted avg       0.98      0.98      0.98      5381\n",
      "\n"
     ]
    }
   ],
   "source": [
    "print(classification_report(y_test,y_test_pre))"
   ]
  },
  {
   "cell_type": "code",
   "execution_count": 24,
   "metadata": {},
   "outputs": [],
   "source": [
    "# test grandmaster data\n",
    "y_pre_gm = best_model.predict(x_test_gm)"
   ]
  },
  {
   "cell_type": "code",
   "execution_count": 25,
   "metadata": {},
   "outputs": [
    {
     "name": "stdout",
     "output_type": "stream",
     "text": [
      "              precision    recall  f1-score   support\n",
      "\n",
      "           0       0.97      0.98      0.97      8281\n",
      "           1       0.98      0.97      0.97      8193\n",
      "\n",
      "    accuracy                           0.97     16474\n",
      "   macro avg       0.97      0.97      0.97     16474\n",
      "weighted avg       0.97      0.97      0.97     16474\n",
      "\n"
     ]
    }
   ],
   "source": [
    "print(classification_report(y_test_gm,y_pre_gm))"
   ]
  },
  {
   "cell_type": "code",
   "execution_count": null,
   "metadata": {},
   "outputs": [],
   "source": []
  }
 ],
 "metadata": {
  "kernelspec": {
   "display_name": "Python 3",
   "language": "python",
   "name": "python3"
  },
  "language_info": {
   "codemirror_mode": {
    "name": "ipython",
    "version": 3
   },
   "file_extension": ".py",
   "mimetype": "text/x-python",
   "name": "python",
   "nbconvert_exporter": "python",
   "pygments_lexer": "ipython3",
   "version": "3.8.3"
  },
  "toc": {
   "base_numbering": 1,
   "nav_menu": {},
   "number_sections": true,
   "sideBar": true,
   "skip_h1_title": false,
   "title_cell": "Table of Contents",
   "title_sidebar": "Contents",
   "toc_cell": false,
   "toc_position": {},
   "toc_section_display": true,
   "toc_window_display": false
  }
 },
 "nbformat": 4,
 "nbformat_minor": 4
}
