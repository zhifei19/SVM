{
 "cells": [
  {
   "cell_type": "code",
   "execution_count": 25,
   "metadata": {},
   "outputs": [],
   "source": [
    "import numpy as np\n",
    "import pandas as pd\n",
    "import matplotlib.pyplot as plt\n",
    "import time\n",
    "from sklearn.model_selection import train_test_split\n",
    "from sklearn.svm import SVC\n",
    "from sklearn.decomposition import PCA\n",
    "from sklearn.metrics import classification_report\n",
    "from sklearn.model_selection import GridSearchCV\n",
    "import joblib"
   ]
  },
  {
   "cell_type": "markdown",
   "metadata": {},
   "source": [
    "# catch data"
   ]
  },
  {
   "cell_type": "code",
   "execution_count": 2,
   "metadata": {},
   "outputs": [
    {
     "data": {
      "text/plain": [
       "(15000, 5)"
      ]
     },
     "execution_count": 2,
     "metadata": {},
     "output_type": "execute_result"
    }
   ],
   "source": [
    "data = pd.read_csv('./chinese_mnist.csv',encoding='utf-8')\n",
    "data.shape[0], data.shape[1]"
   ]
  },
  {
   "cell_type": "code",
   "execution_count": 3,
   "metadata": {},
   "outputs": [
    {
     "name": "stdout",
     "output_type": "stream",
     "text": [
      "    suite_id  sample_id  code      value character\n",
      "0          1          1     1          0         零\n",
      "1          1          1     2          1         一\n",
      "2          1          1     3          2         二\n",
      "3          1          1     4          3         三\n",
      "4          1          1     5          4         四\n",
      "5          1          1     6          5         五\n",
      "6          1          1     7          6         六\n",
      "7          1          1     8          7         七\n",
      "8          1          1     9          8         八\n",
      "9          1          1    10          9         九\n",
      "10         1          1    11         10         十\n",
      "11         1          1    12        100         百\n",
      "12         1          1    13       1000         千\n",
      "13         1          1    14      10000         万\n",
      "14         1          1    15  100000000         亿\n",
      "15         1          2     1          0         零\n",
      "16         1          2     2          1         一\n",
      "17         1          2     3          2         二\n",
      "18         1          2     4          3         三\n",
      "19         1          2     5          4         四\n",
      "<class 'numpy.ndarray'>\n",
      "<class 'pandas.core.frame.DataFrame'>\n"
     ]
    }
   ],
   "source": [
    "# property of data\n",
    "print(data.head(20))\n",
    "print(type(np.array(data)))\n",
    "print(type(data))"
   ]
  },
  {
   "cell_type": "code",
   "execution_count": 4,
   "metadata": {},
   "outputs": [
    {
     "name": "stdout",
     "output_type": "stream",
     "text": [
      "running time 6.768014192581177\n"
     ]
    }
   ],
   "source": [
    "image = []\n",
    "start = time.time()\n",
    "for i in range(100):\n",
    "    for j in range(10):\n",
    "        for k in range(15):\n",
    "            path = './data/input_{}_{}_{}.jpg'.format(i+1,j+1,k+1)\n",
    "            image.append(plt.imread(path))\n",
    "end = time.time()\n",
    "print('running time {}'.format(end-start))"
   ]
  },
  {
   "cell_type": "code",
   "execution_count": 5,
   "metadata": {
    "scrolled": true
   },
   "outputs": [
    {
     "name": "stdout",
     "output_type": "stream",
     "text": [
      "(15000, 64, 64)\n",
      "<class 'numpy.ndarray'>\n"
     ]
    }
   ],
   "source": [
    "# property of image\n",
    "image = np.array(image)\n",
    "print(image.shape)\n",
    "print(type(image))"
   ]
  },
  {
   "cell_type": "markdown",
   "metadata": {},
   "source": [
    "# data preprocessing"
   ]
  },
  {
   "cell_type": "code",
   "execution_count": 6,
   "metadata": {},
   "outputs": [],
   "source": [
    "y = data['code']\n",
    "x = image.reshape([15000,-1])"
   ]
  },
  {
   "cell_type": "code",
   "execution_count": 7,
   "metadata": {},
   "outputs": [
    {
     "name": "stdout",
     "output_type": "stream",
     "text": [
      "(15000,)\n",
      "(15000, 4096)\n"
     ]
    }
   ],
   "source": [
    "# property\n",
    "print(y.shape)\n",
    "print(x.shape)"
   ]
  },
  {
   "cell_type": "code",
   "execution_count": 8,
   "metadata": {},
   "outputs": [],
   "source": [
    "x_train, x_test, y_train, y_test = train_test_split(x, y, test_size = 0.25, random_state = 19)"
   ]
  },
  {
   "cell_type": "markdown",
   "metadata": {},
   "source": [
    "# Feature engineering"
   ]
  },
  {
   "cell_type": "code",
   "execution_count": 9,
   "metadata": {},
   "outputs": [],
   "source": [
    "n_components = 100\n",
    "pca = PCA(n_components=n_components).fit(x_train)"
   ]
  },
  {
   "cell_type": "code",
   "execution_count": 10,
   "metadata": {},
   "outputs": [],
   "source": [
    "x_train_pca = pca.transform(x_train)\n",
    "x_test_pca = pca.transform(x_test)"
   ]
  },
  {
   "cell_type": "code",
   "execution_count": 11,
   "metadata": {},
   "outputs": [
    {
     "name": "stdout",
     "output_type": "stream",
     "text": [
      "(11250, 100)\n"
     ]
    }
   ],
   "source": [
    "# property\n",
    "print(x_train_pca.shape)"
   ]
  },
  {
   "cell_type": "markdown",
   "metadata": {},
   "source": [
    "# train model"
   ]
  },
  {
   "cell_type": "code",
   "execution_count": 12,
   "metadata": {},
   "outputs": [
    {
     "name": "stdout",
     "output_type": "stream",
     "text": [
      "Wall time: 42.9 s\n"
     ]
    },
    {
     "data": {
      "text/plain": [
       "SVC(C=3)"
      ]
     },
     "execution_count": 12,
     "metadata": {},
     "output_type": "execute_result"
    }
   ],
   "source": [
    "model = SVC(C=3,kernel='rbf')\n",
    "%time model.fit(x_train_pca,y_train)"
   ]
  },
  {
   "cell_type": "code",
   "execution_count": 13,
   "metadata": {},
   "outputs": [],
   "source": [
    "y_pre = model.predict(x_test_pca)"
   ]
  },
  {
   "cell_type": "code",
   "execution_count": 15,
   "metadata": {},
   "outputs": [
    {
     "name": "stdout",
     "output_type": "stream",
     "text": [
      "              precision    recall  f1-score   support\n",
      "\n",
      "           1       0.95      0.94      0.95       235\n",
      "           2       0.86      0.99      0.92       253\n",
      "           3       0.78      0.78      0.78       249\n",
      "           4       0.81      0.74      0.78       255\n",
      "           5       0.91      0.90      0.90       257\n",
      "           6       0.92      0.88      0.90       260\n",
      "           7       0.73      0.88      0.80       254\n",
      "           8       0.84      0.84      0.84       221\n",
      "           9       0.90      0.94      0.92       255\n",
      "          10       0.87      0.79      0.83       277\n",
      "          11       0.82      0.83      0.82       265\n",
      "          12       0.85      0.81      0.83       241\n",
      "          13       0.83      0.73      0.77       267\n",
      "          14       0.82      0.79      0.80       247\n",
      "          15       0.85      0.92      0.88       214\n",
      "\n",
      "    accuracy                           0.85      3750\n",
      "   macro avg       0.85      0.85      0.85      3750\n",
      "weighted avg       0.85      0.85      0.85      3750\n",
      "\n"
     ]
    }
   ],
   "source": [
    "print(classification_report(y_test,y_pre))"
   ]
  },
  {
   "cell_type": "markdown",
   "metadata": {},
   "source": [
    "# Optimiser\n"
   ]
  },
  {
   "cell_type": "code",
   "execution_count": 19,
   "metadata": {},
   "outputs": [],
   "source": [
    "param_grid = {'C':[1,3,5,7], 'kernel':['rbf']}\n",
    "grid = GridSearchCV(SVC(),param_grid=param_grid,cv=3)"
   ]
  },
  {
   "cell_type": "code",
   "execution_count": 20,
   "metadata": {},
   "outputs": [
    {
     "name": "stdout",
     "output_type": "stream",
     "text": [
      "Wall time: 6min 30s\n"
     ]
    },
    {
     "data": {
      "text/plain": [
       "GridSearchCV(cv=3, estimator=SVC(),\n",
       "             param_grid={'C': [1, 3, 5, 7], 'kernel': ['rbf']})"
      ]
     },
     "execution_count": 20,
     "metadata": {},
     "output_type": "execute_result"
    }
   ],
   "source": [
    "%time grid.fit(x_train_pca,y_train)"
   ]
  },
  {
   "cell_type": "code",
   "execution_count": 28,
   "metadata": {},
   "outputs": [],
   "source": [
    "model_svc = grid.best_estimator_"
   ]
  },
  {
   "cell_type": "code",
   "execution_count": 27,
   "metadata": {},
   "outputs": [
    {
     "data": {
      "text/plain": [
       "['SVC_model.pkl']"
      ]
     },
     "execution_count": 27,
     "metadata": {},
     "output_type": "execute_result"
    }
   ],
   "source": [
    "# save model\n",
    "joblib.dump(grid.best_estimator_, 'SVC_model.pkl')"
   ]
  },
  {
   "cell_type": "code",
   "execution_count": 29,
   "metadata": {},
   "outputs": [],
   "source": [
    "y_pre_opt = model_svc.predict(x_test_pca)"
   ]
  },
  {
   "cell_type": "code",
   "execution_count": 31,
   "metadata": {},
   "outputs": [
    {
     "name": "stdout",
     "output_type": "stream",
     "text": [
      "              precision    recall  f1-score   support\n",
      "\n",
      "           1       0.94      0.94      0.94       235\n",
      "           2       0.89      0.99      0.94       253\n",
      "           3       0.78      0.82      0.80       249\n",
      "           4       0.86      0.75      0.80       255\n",
      "           5       0.90      0.91      0.90       257\n",
      "           6       0.92      0.88      0.90       260\n",
      "           7       0.76      0.88      0.81       254\n",
      "           8       0.84      0.84      0.84       221\n",
      "           9       0.91      0.95      0.93       255\n",
      "          10       0.87      0.80      0.83       277\n",
      "          11       0.83      0.84      0.84       265\n",
      "          12       0.85      0.80      0.83       241\n",
      "          13       0.84      0.72      0.78       267\n",
      "          14       0.80      0.79      0.80       247\n",
      "          15       0.86      0.93      0.89       214\n",
      "\n",
      "    accuracy                           0.85      3750\n",
      "   macro avg       0.86      0.86      0.85      3750\n",
      "weighted avg       0.86      0.85      0.85      3750\n",
      "\n"
     ]
    }
   ],
   "source": [
    "print(classification_report(y_test,y_pre_opt))"
   ]
  },
  {
   "cell_type": "code",
   "execution_count": 34,
   "metadata": {},
   "outputs": [],
   "source": [
    "estimator = joblib.load('./SVC_model.pkl')"
   ]
  },
  {
   "cell_type": "code",
   "execution_count": 35,
   "metadata": {},
   "outputs": [
    {
     "name": "stdout",
     "output_type": "stream",
     "text": [
      "              precision    recall  f1-score   support\n",
      "\n",
      "           1       0.94      0.94      0.94       235\n",
      "           2       0.89      0.99      0.94       253\n",
      "           3       0.78      0.82      0.80       249\n",
      "           4       0.86      0.75      0.80       255\n",
      "           5       0.90      0.91      0.90       257\n",
      "           6       0.92      0.88      0.90       260\n",
      "           7       0.76      0.88      0.81       254\n",
      "           8       0.84      0.84      0.84       221\n",
      "           9       0.91      0.95      0.93       255\n",
      "          10       0.87      0.80      0.83       277\n",
      "          11       0.83      0.84      0.84       265\n",
      "          12       0.85      0.80      0.83       241\n",
      "          13       0.84      0.72      0.78       267\n",
      "          14       0.80      0.79      0.80       247\n",
      "          15       0.86      0.93      0.89       214\n",
      "\n",
      "    accuracy                           0.85      3750\n",
      "   macro avg       0.86      0.86      0.85      3750\n",
      "weighted avg       0.86      0.85      0.85      3750\n",
      "\n"
     ]
    }
   ],
   "source": [
    "y_pre_opt = estimator.predict(x_test_pca)\n",
    "print(classification_report(y_test,y_pre_opt))"
   ]
  },
  {
   "cell_type": "code",
   "execution_count": null,
   "metadata": {},
   "outputs": [],
   "source": []
  }
 ],
 "metadata": {
  "kernelspec": {
   "display_name": "Python 3",
   "language": "python",
   "name": "python3"
  },
  "language_info": {
   "codemirror_mode": {
    "name": "ipython",
    "version": 3
   },
   "file_extension": ".py",
   "mimetype": "text/x-python",
   "name": "python",
   "nbconvert_exporter": "python",
   "pygments_lexer": "ipython3",
   "version": "3.8.3"
  },
  "toc": {
   "base_numbering": 1,
   "nav_menu": {},
   "number_sections": true,
   "sideBar": true,
   "skip_h1_title": false,
   "title_cell": "Table of Contents",
   "title_sidebar": "Contents",
   "toc_cell": false,
   "toc_position": {},
   "toc_section_display": true,
   "toc_window_display": false
  }
 },
 "nbformat": 4,
 "nbformat_minor": 4
}
